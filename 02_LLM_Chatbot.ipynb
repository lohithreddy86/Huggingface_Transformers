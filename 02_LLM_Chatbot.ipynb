{
 "cells": [
  {
   "cell_type": "markdown",
   "metadata": {},
   "source": [
    "# Build your own LLM chatbot from scratch\n",
    "\n",
    "https://www.youtube.com/watch?v=o1BCq1KJULM&t=785s\n",
    "\n",
    "https://www.youtube.com/watch?v=yISaV2vp-Fk&t=5s"
   ]
  },
  {
   "cell_type": "code",
   "execution_count": null,
   "metadata": {},
   "outputs": [],
   "source": []
  }
 ],
 "metadata": {
  "language_info": {
   "name": "python"
  }
 },
 "nbformat": 4,
 "nbformat_minor": 2
}
